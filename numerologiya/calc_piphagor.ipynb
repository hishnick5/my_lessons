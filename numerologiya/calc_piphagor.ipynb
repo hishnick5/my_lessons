{
 "cells": [
  {
   "cell_type": "code",
   "execution_count": 605,
   "id": "c50d01e5",
   "metadata": {},
   "outputs": [
    {
     "name": "stdout",
     "output_type": "stream",
     "text": [
      "42\n"
     ]
    }
   ],
   "source": [
    "import pandas as pd\n",
    "import numpy as np\n",
    "np.set_printoptions(precision=2)\n",
    "from pprint import pprint\n",
    "from odf import text, teletype\n",
    "from odf.opendocument import load\n",
    "from datetime import date\n",
    "temp_date = date.today()\n",
    "current_date = '.'.join((str(temp_date)).split('-')[::-1])\n",
    "def calculate_age(day, month, year):\n",
    "    # Получение текущей даты с помощью функции `today()` [4]\n",
    "    today = date.today()\n",
    "    # Превращение года, месяца и дня в дату рождения\n",
    "    birthdate = date(year, month, day)\n",
    "    # Расчёт возраста\n",
    "    age = today.year - birthdate.year - ((today.month, today.day) < (birthdate.month, birthdate.day))\n",
    "    # Возвращение значения возраста\n",
    "    return age\n",
    "\n",
    "# input_date = input('Введите свою дату рождения ввиде \"день месяц год\" через знак припинания точка(.) xx.xx.xxxx')\n",
    "input_date = '10.05.1983'\n",
    "input_name = 'Тимур'\n",
    "\n",
    "# Высчитываем точный возраст по текущей дате и дате рождения\n",
    "def calculate_age(input_date):\n",
    "    if input_date == 'input Error':\n",
    "        return 'Не верные данные'\n",
    "    day, month, year = input_date.split('.')\n",
    "    day, month, year = int(day), int(month), int(year)\n",
    "    # Получение текущей даты с помощью функции `today()` [4]\n",
    "    today = date.today()\n",
    "    # Превращение года, месяца и дня в дату рождения\n",
    "    birthdate = date(year, month, day)\n",
    "    # Расчёт возраста\n",
    "    age = today.year - birthdate.year - ((today.month, today.day) < (birthdate.month, birthdate.day))\n",
    "    # Возвращение значения возраста\n",
    "    return age\n",
    "# Записываем точный возраст\n",
    "your_age = calculate_age(input_date)\n",
    "print(your_age)"
   ]
  },
  {
   "cell_type": "code",
   "execution_count": 606,
   "id": "5aab69a1",
   "metadata": {},
   "outputs": [
    {
     "name": "stdout",
     "output_type": "stream",
     "text": [
      "2\n"
     ]
    }
   ],
   "source": [
    "def calculate_name_value(your_name):\n",
    "    table_alpha = {\n",
    "        'аисъ': 1, 'бйты': 2, 'вкуь': 3,\n",
    "        'глфэ': 4, 'дмхю': 5, 'енця': 6,\n",
    "        'ёоч': 7, 'жпш': 8, 'зрщ': 9\n",
    "    }\n",
    "    \n",
    "    char_to_value = {}\n",
    "    for chars, value in table_alpha.items():\n",
    "        for char in chars:\n",
    "            char_to_value[char] = value\n",
    "    \n",
    "    total = sum(char_to_value.get(char, 0) for char in your_name.lower())\n",
    "    \n",
    "    def reduce_number(n):\n",
    "        while n > 9:\n",
    "            n = sum(int(d) for d in str(n))\n",
    "        return n\n",
    "    \n",
    "    return str(reduce_number(total))\n",
    "\n",
    "count_name = calculate_name_value(input_name)\n",
    "print(count_name)"
   ]
  },
  {
   "cell_type": "code",
   "execution_count": 607,
   "id": "c77676f9",
   "metadata": {},
   "outputs": [
    {
     "name": "stdout",
     "output_type": "stream",
     "text": [
      "('279', '257')\n"
     ]
    }
   ],
   "source": [
    "# texnicheskiy rasklad \n",
    "def technical_layout(input_date):\n",
    "    clean = input_date.replace('.', '').replace('0', '')\n",
    "    nums = [int(i) for i in clean]\n",
    "    \n",
    "    b1 = str(sum(nums))\n",
    "    b2 = b1[0] if b1[1] == '0' else str(sum(int(i) for i in b1))\n",
    "    body = b1 + b2\n",
    "    \n",
    "    s1 = str(abs(int(b1) - nums[0]*2))\n",
    "    s2 = f\"0{s1}\" if len(s1) == 1 else str(sum(int(i) for i in s1))\n",
    "    soul = s1 + s2\n",
    "    \n",
    "    return (clean, body, soul)\n",
    "\n",
    "total_numbers = technical_layout(input_date)\n",
    "body_soul = total_numbers[1:3]\n",
    "print(body_soul)"
   ]
  },
  {
   "cell_type": "code",
   "execution_count": 608,
   "id": "930b557d",
   "metadata": {},
   "outputs": [
    {
     "name": "stdout",
     "output_type": "stream",
     "text": [
      "{'1': '11', '2': '22', '3': '3', '4': '', '5': '55', '6': '', '7': '77', '8': '8', '9': '99'}\n",
      "['11', '22', '3', '', '55', '', '77', '8', '99']\n"
     ]
    }
   ],
   "source": [
    "def calculate_table_piphagor(total_numbers):\n",
    "    date, body, soul = total_numbers\n",
    "    total = date + body + soul\n",
    "    return {str(i): str(i)*total.count(str(i)) if str(i) in total else '' \n",
    "            for i in range(1, 10)}\n",
    "\n",
    "dict_table_piphagor = calculate_table_piphagor(total_numbers)\n",
    "list_table_piphagor = list(dict_table_piphagor.values())\n",
    "print(dict_table_piphagor)\n",
    "print(list_table_piphagor)"
   ]
  },
  {
   "cell_type": "code",
   "execution_count": 609,
   "id": "c754091d",
   "metadata": {},
   "outputs": [
    {
     "name": "stdout",
     "output_type": "stream",
     "text": [
      "{'1': '11', '2': '222', '3': '3', '4': '', '5': '55', '6': '', '7': '77', '8': '8', '9': '99'}\n",
      "['11', '222', '3', '', '55', '', '77', '8', '99']\n"
     ]
    }
   ],
   "source": [
    "\n",
    "def calculate_table_piphagor(total_numbers, count_name):\n",
    "    date, body, soul = total_numbers\n",
    "    total = date + body + soul + count_name\n",
    "    return {str(i): str(i)*total.count(str(i)) if str(i) in total else '' \n",
    "            for i in range(1, 10)}\n",
    "\n",
    "name_dict_table_piphagor = calculate_table_piphagor(total_numbers, count_name)\n",
    "name_list_table_piphagor = list(name_dict_table_piphagor.values())\n",
    "print(name_dict_table_piphagor)\n",
    "print(name_list_table_piphagor)"
   ]
  },
  {
   "cell_type": "code",
   "execution_count": 628,
   "id": "c682b098",
   "metadata": {},
   "outputs": [
    {
     "name": "stdout",
     "output_type": "stream",
     "text": [
      "12\n"
     ]
    }
   ],
   "source": [
    "# Считаем число зрелости души\n",
    "# Высчитываем число реинкарнации (зрелость души) по дате рождения\n",
    "def calculate_reincarnation(list_table_piphagor):\n",
    "    total_str = ''.join([x for x in list_table_piphagor if x != '-'])\n",
    "    count = len(total_str)\n",
    "    return count\n",
    "\n",
    "reincarnation = calculate_reincarnation(list_table_piphagor)\n",
    "print(reincarnation)"
   ]
  },
  {
   "cell_type": "code",
   "execution_count": 611,
   "id": "74981154",
   "metadata": {},
   "outputs": [
    {
     "name": "stdout",
     "output_type": "stream",
     "text": [
      "9\n"
     ]
    }
   ],
   "source": [
    "# Число судьбы\n",
    "def number_destiny(input_data):\n",
    "    clean = input_data.replace('.', '').replace('0', '')\n",
    "    num = sum(int(d) for d in clean)\n",
    "    return str(num if num < 10 else (num - 1) % 9 + 1)\n",
    "destiny = number_destiny(input_date)\n",
    "print(destiny)"
   ]
  },
  {
   "cell_type": "code",
   "execution_count": 612,
   "id": "75fa7cc4",
   "metadata": {},
   "outputs": [
    {
     "name": "stdout",
     "output_type": "stream",
     "text": [
      "9-18-27\n"
     ]
    }
   ],
   "source": [
    "# Счастливые числа\n",
    "number = str(sum([int(i) for i in total_numbers[0]]))\n",
    "def calculate_luckie(number):\n",
    "    # Счастливые числа по дате рождения\n",
    "    luckie_dict = {\n",
    "        '1':'1-10-19-28',\n",
    "        '2':'2-11-20-29',\n",
    "        '3':'3-12-21-30',\n",
    "        '4':'4-13-22-31',\n",
    "        '5':'5-14-23-30',\n",
    "        '6':'6-15-24-30',\n",
    "        '7':'7-14-21-28',\n",
    "        '8': '8-16-24',\n",
    "        '9':'9-18-27'\n",
    "        }\n",
    "    \n",
    "    num = int(number[0]) + int(number[1])\n",
    "    while num > 9:\n",
    "        num = sum(int(d) for d in str(num))\n",
    "    return luckie_dict[str(num)]\n",
    "luckie_numbers = calculate_luckie(number)\n",
    "print(luckie_numbers)"
   ]
  },
  {
   "cell_type": "code",
   "execution_count": 613,
   "id": "45997c22",
   "metadata": {},
   "outputs": [],
   "source": [
    "def calculation_realization(dict_table_piphagor):\n",
    "    # Самореализация, горизонталь 1, сумма ячеек 1+4+7\n",
    "    realization = len(dict_table_piphagor['1'])+len(dict_table_piphagor['4'])+len(dict_table_piphagor['7'])\n",
    "    return realization\n",
    "\n",
    "\n",
    "def calculation_helping_family(dict_table_piphagor):\n",
    "    # Помощь семье, горизонталь 2, сумма ячеек 2+5+8\n",
    "    helping_the_family = len(dict_table_piphagor['2'])+len(dict_table_piphagor['5'])+len(dict_table_piphagor['8'])\n",
    "    return helping_the_family\n",
    "\n",
    "\n",
    "def calculation_habits(dict_table_piphagor):\n",
    "    # Привычки, горизонталь 3, сумма ячеек 3+6+9\n",
    "    habits = len(dict_table_piphagor['3'])+len(dict_table_piphagor['6'])+len(dict_table_piphagor['9'])\n",
    "    return habits\n",
    "\n",
    "def calculation_self_assessment(dict_table_piphagor):\n",
    "    # Самооценка, вертикаль 1, сумма ячеек 1+2+3\n",
    "    self_assessment = len(dict_table_piphagor['1'])+len(dict_table_piphagor['2'])+len(dict_table_piphagor['3'])\n",
    "    return self_assessment\n",
    "\n",
    "\n",
    "def calculation_family_life(dict_table_piphagor):\n",
    "    # Семья быт, вертикаль 2, сумма ячеек 4+5+6\n",
    "    family_life = len(dict_table_piphagor['4'])+len(dict_table_piphagor['5'])+len(dict_table_piphagor['6'])\n",
    "    return family_life\n",
    "\n",
    "def calculation_talents(dict_table_piphagor):\n",
    "    # Талант, вертикаль 3, сумма ячеек 7+8+9\n",
    "    talent = len(dict_table_piphagor['7'])+len(dict_table_piphagor['8'])+len(dict_table_piphagor['9'])\n",
    "    return talent\n",
    "\n",
    "def calculation_spirituality(dict_table_piphagor):\n",
    "    # Духовность, диагональ сверху вниз, сумма ячеек 1+5+9\n",
    "    spirituality = len(dict_table_piphagor['1'])+len(dict_table_piphagor['5'])+len(dict_table_piphagor['9'])\n",
    "    return spirituality\n",
    "\n",
    "def calculation_temperament(dict_table_piphagor):\n",
    "    # Темперамент, диагональ снизу вверх, сумма ячеек 3+5+7\n",
    "    temperament = len(dict_table_piphagor['3'])+len(dict_table_piphagor['5'])+len(dict_table_piphagor['7'])\n",
    "    return temperament\n",
    "\n",
    "\n",
    "realization = calculation_realization(dict_table_piphagor)\n",
    "helping_family = calculation_helping_family(dict_table_piphagor)\n",
    "habits = calculation_habits(dict_table_piphagor)\n",
    "self_assessment = calculation_self_assessment(dict_table_piphagor)\n",
    "family_life = calculation_family_life(dict_table_piphagor)\n",
    "talents = calculation_talents(dict_table_piphagor)\n",
    "spirituality = calculation_spirituality(dict_table_piphagor)\n",
    "temperament = calculation_temperament(dict_table_piphagor)"
   ]
  },
  {
   "cell_type": "code",
   "execution_count": 614,
   "id": "e34c6ae8",
   "metadata": {},
   "outputs": [
    {
     "name": "stdout",
     "output_type": "stream",
     "text": [
      "Мудрец\n",
      "991500 <class 'str'>\n"
     ]
    }
   ],
   "source": [
    "# Жизненный код, просто перемножаем дату с месяцем и с годом 10.05.1983=10*5*1983=99150, \n",
    "# должно получиться 6 чисел если не хватает до 6 чисел тогда добавляем справа нули чтоб получилось 6 чисел\n",
    "input_date\n",
    "\n",
    "def calculate_life_code(input_date):\n",
    "    day, month, year = map(int, input_date.split('.'))\n",
    "    result = str(day * month * year)\n",
    "    return result.ljust(6, '0') if len(result) < 6 else result\n",
    "\n",
    "life_code_dict = {\n",
    "    '1': 'Любознательные, хотят всё знать, человек жаждущий знания',\n",
    "    '22': 'Коммуникабельный человек',\n",
    "    '2': 'Энергичность',\n",
    "    '3': 'Талант',\n",
    "    '4': 'Расчёт, терпение, дипломатичность',\n",
    "    '5': 'Сердечность доброта',\n",
    "    '6': 'Трудолюбие',\n",
    "    '7': 'Счастье, харизма',\n",
    "    '8': 'Удача, везение, баловень судьбы',\n",
    "    '9': 'Аналитические способности, очень тяжело удивить этого человека чем-либо',\n",
    "    '99': 'Мудрец'\n",
    "}\n",
    "\n",
    "life_code = calculate_life_code(input_date)\n",
    "life_code_value = None\n",
    "\n",
    "if life_code[:2] in life_code_dict:\n",
    "    life_code_value = life_code_dict[life_code[:2]]\n",
    "elif life_code[0] in life_code_dict:\n",
    "    life_code_value = life_code_dict[life_code[0]]\n",
    "print(life_code_value)\n",
    "print(life_code, type(life_code))"
   ]
  },
  {
   "cell_type": "code",
   "execution_count": 615,
   "id": "70a474b3",
   "metadata": {},
   "outputs": [
    {
     "name": "stdout",
     "output_type": "stream",
     "text": [
      "Код Поведения человека: Независимость Рождённые с 21 апреля по 20 мая, ваш код поведения — независимость. Здесь речь как о финансовой, так и духовной независимости. Если вы привязываетесь эмоционально к человеку, растворяетесь в нём и теряете себя, ставите его выше своих интересов — это ваша главная ошибка. Вам ни в коем случае этого делать нельзя. Есть даже закономерность, что тельцам чаще изменяют, тельцов чаще предают. Потому что своей эмоциональной привязанностью они душат другого человека и провоцируют на такое поведение. Поэтому, чтобы в вашей жизни складывалось всё хорошо, возьмите себе за правило — не привязываться ни к кому, ни эмоционально, ни финансово.\n"
     ]
    }
   ],
   "source": [
    "# Код поведения по знаку Зодиака и дате\n",
    "day_month = '.'.join(input_date.split('.')[:2]) # Выделяем день и месяц\n",
    "def calculate_code_behaviour(day_month):\n",
    "    zodiac_ranges = {\n",
    "        'aquarius': (20, 1, 18, 2),\n",
    "        'pisces': (19, 2, 20, 3),\n",
    "        'aries': (21, 3, 20, 4),\n",
    "        'taurus': (21, 4, 20, 5),\n",
    "        'gemini': (21, 5, 20, 6),\n",
    "        'cancer': (21, 6, 22, 7),\n",
    "        'leo': (23, 7, 22, 8),\n",
    "        'virgo': (23, 8, 23, 9),\n",
    "        'libra': (24, 9, 23, 10),\n",
    "        'scorpio': (24, 10, 21, 11),\n",
    "        'sagittarius': (22, 11, 21, 12),\n",
    "        'capricorn': (22, 12, 19, 1)\n",
    "    }\n",
    "\n",
    "    zodiac_descriptions = {\n",
    "                    'aquarius':'Поведения человека: Перемены Код перемен. Он принадлежит тем людям, которые родились с 20 января по 18 февраля включительно. Как должны вести себя люди с таким кодом? Название говорит само за себя. Этой категории людей необходимо постоянно что-то менять: причёску, стиль одежды, элементарно делать перестановку в доме. Поехать на работу по новому маршруту. Им необходимо постоянно путешествовать, так как опять же, это перемена места, декораций. Иметь разные увлечения, хобби. Если у людей, родившихся в этот период, не происходит изменений, у них в жизни начинается застой и всё идёт не так, как им хотелось бы, поэтому, если вы входите в эту категорию людей, помните всегда об этом и старайтесь вносить хотя бы минимальные перемены в свою жизнь. Хочу обратиться к родителям, чьи дети с данным кодом поведения. Если вам кажется, что ваш ребёнок ветреный, так как меняет постоянно увлечения, мечется то к одному виду спорта, то к другому, либо вообще занимался спортом, а затем ушёл в искусство, не ограничивайте его, поощряйте его интересы. Это здорово, что он меняет направления, так он идёт по своему пути, перемены в его жизни необходимы. Позвольте ему пробовать себя в разном. Поверьте, со временем он сделает верный выбор и найдёт то, что ему действительно по душе.',\n",
    "                    'pisces':'Поведения человека: Праздник - всегда должны радоваться. Если вы родились с 19 февраля по 20 марта — ваш код поведения — праздник. Вы способны из каждого дня, из любой мелочи сделать праздник, такие люди, как правило, яркие, позитивные, с ними всегда весело и интересно. Ваша задача — превращать даже рутину во что-то необычное и праздничное. Например, обычную уборку квартиры увлекательным процессом. Рабочий день превратить в весёлый и необычный. Больше смеха, радости и позитива — это то, что требует от вас ваш код поведения. Наверняка вы знаете мою жену Клару. Это яркий представитель людей с таким кодом поведения. Вы сами видите, что улыбка и смех не сходят с её лица, она живая, интересная, позитивная, звонкая. И в её жизни всё складывается наилучшим образом, потому что она следует своему коду поведения.',\n",
    "                    'aries':'Поведения человека: Переживание Если вы родились в период с 21 марта по 20 апреля — вам официально разрешено переживать. Удивительно, парадоксально, но именно тогда, когда вы переживаете, ваши проблемы и неприятные ситуации решаются каким-то чудесным образом. Естественно, здесь, как и везде, должна быть золотая середина. Но главная особенность рождённых в этот период заключается именно в этом Если люди из другой категории, с другим кодом поведения, в сложной ситуации будут переживать, у них всё начнёт рушиться, и ситуация только усугубится. У вас же всё совершенно наоборот. И я часто слышал от своих клиентов с этим кодом, что они сами замечали, что в трудных ситуациях они начинают переживать и сами не понимают, как всё разрешилось наилучшим образом.',\n",
    "                    'taurus':'Поведения человека: Независимость Рождённые с 21 апреля по 20 мая, ваш код поведения — независимость. Здесь речь как о финансовой, так и духовной независимости. Если вы привязываетесь эмоционально к человеку, растворяетесь в нём и теряете себя, ставите его выше своих интересов — это ваша главная ошибка. Вам ни в коем случае этого делать нельзя. Есть даже закономерность, что тельцам чаще изменяют, тельцов чаще предают. Потому что своей эмоциональной привязанностью они душат другого человека и провоцируют на такое поведение. Поэтому, чтобы в вашей жизни складывалось всё хорошо, возьмите себе за правило — не привязываться ни к кому, ни эмоционально, ни финансово.',\n",
    "                    'gemini':'Поведения человека: Мечтать о фантастическом Если вы родились в период с 21 мая по 20 июня, ваш код поведения — мечтать о фантастическом. Я хочу сказать, что вам очень повезло, так как всё, о чём вы мечтаете, реализуется в вашей жизни, даже если ваши мечты кажутся вам чем-то нереальным, фантастическим. Ваш код так и говорит — мечтать о ФАНТАСТИЧЕСКОМ. Эти, казалось бы, несбыточные желания сбываются для вас. Такие люди могут на мечтать себе роскошную жизнь, вторую половинку, любые события, которые будут с ними происходить. Главное — делайте это, мечтайте, не считайте это глупостью, ребячеством. Вам официально разрешено мечтать и визуализировать. Попробуйте прямо сейчас вспомнить, о чём вы мечтали с детства, а может быть, и в более зрелом возрасте. Я уверен, что есть не один пример из вашей жизни, где ваши мечты стали реальностью. А если вы никогда не мечтали или в какой-то момент прекратили это делать, попробуйте, у вас обязательно получится превратить ваши мечты в реальность.',\n",
    "                    'cancer':'Поведения человека: Претендовать на большее Если вы родились с 21 июня по 22 июля, ваш код поведения — всегда претендовать на большее. И если человек из данной категории скажет мне, что у него не получается, что он потратил уже все силы, но так и не пришёл к нужному результату, не поверю. Вы те люди, которые никогда не должны останавливаться на достигнутом, и даже если вам возможностей, это не так. Поднимайтесь каждый раз на ступеньку выше. Выходите на новый уровень, стремитесь достичь ещё большего, чем имеете на данный момент. У вас большое преимущество перед другими. У вас есть этот потенциал постоянно достигать новых вершин. Как только вы останавливаетесь на достигнутом, вы идёте не по своему пути теряете связь с самим собой, вам становится некомфортно. Поэтому не жалейте себя стремитесь к большему, развивайтесь, достигайте! У вас всё обязательно получится.',\n",
    "                    'leo':'Поведения человека: Должны вести как короли Рождённые с 23 июля по 22 августа, ваш код поведения — король или королева. Эти люди и родились в знак Льва. И они действительно должны вести себя как лев, царь зверей. Лев чувствует своё превосходство над другими, он знает себе цену, у него голова всегда приподнята. Он ведёт себя достойно, он справедлив, честен, умён. Его взгляд, манера, поведение — всё наполнено царственностью и величием. Но обратите внимание, при этом львы никого не унижают, не самоутверждаются за счёт других. Это большая разница. Им не нужно никому доказывать, что они достойные и их нужно любить и уважать. Они такие и есть. И это чувствуют другие. Вот так должны вести себя люди с кодом поведения — король или королева. Скорее всего, в них это уже заложено с рождения, главное, не терять это и помнить о своём достоинстве.',\n",
    "                    'virgo':'Поведения человека: Самолюбование Если вы родились в период с 23 августа по 23 сентября, ваш код — самолюбование. Вам нужно заявлять о себе и признавать, что вы лучшая или лучший, причём это касается всех сфер: карьера, семья, личностная сфера и т.д. Где бы вы ни были и какую социальную роль ни выполняли бы, вы должны говорить о том, что вы лучшая или лучший. Главное делать это искренне, тогда и другие будут это чувствовать и признавать. Людям с таким кодом необходимо выходить в социальные сети. Можно показывать свою личную жизнь или то, что вы хотели бы. Удивительно, но, как правило, людей, рождённых в этот период, всегда интересно смотреть, о чём бы они ни говорили и что бы они ни показывали, даже если вы будете показывать в соц.сетях свою обычную повседневную жизнь, людям будет интересно за вами наблюдать.',\n",
    "                    'libra':'Поведения человека: Стервозность, подкалывать свое окружение Рожденные с 24 сентября по 23 октября — ваш код поведения стервозность. Вам разрешено подкалывать других людей, подшучивать над ними, проявлять стервозность. Но я прошу не путать это с наглостью и хамством. Опять повторюсь про золотую серединку. Можно подкалывать людей, не обижая, не унижая и не оскорбляя их. Делать это красиво, как в принципе и умеют многие женщины. Вести себя легко, играючи, иронизировать и подкалывать по- доброму, без агрессии и унижения — вот о чём говорит ваш код поведения. Когда люди под этим знаком ведут себя так, в их жизни складывается всё наилучшим образом для них, и они притягивают удачу. Кстати, если говорить о рождённых в этот период, им ни в коем случае нельзя переживать, иначе они притягивают негативные события в свою жизнь.',\n",
    "                    'scorpio':'Поведения человека: Не высовываться, вести себя как обиженный ребенок Если вы родились в период с 24 октября по 21 ноября, ваш код поведения — вести себя, как обиженный ребёнок. Конечно, не в прямом смысле, но какое-то сходство между этой фразой и вашим поведением есть. Смотрите, этим людям очень выгодно быть в тени, тише воды ниже травы, не высовываться и быть незамеченным. Иначе говоря, быть серой мышкой. У многих этот образ ассоциируется с неудачником, несостоявшимся человеком. Но именно этим рождённым в этот период, очень выгодно так себя вести. Именно такое поведение приносит удачу и успех в их жизнь. Давайте приведу пример. Есть люди блогеры, которые всё время на виду, они проявляются, их знают многие. Кто- то их любит, кто-то хейтит, но они как на сцене, всё время себя показывают. А есть люди, которые помогают этим блогерам, пишут для них тексты, составляют какие-то сценарии, делают рекламу, собирают аудиторию. Этих людей не видно, о них никто не знает и не слышит. Но они играют большую роль. Популярность этих блогеров в большой степени — заслуга этих так называемых серых кардиналов. Вот какое поведение я имею в виду. И если вы, рождённые в этот период, будете вести себя так, поверьте, вы будете удачливы и успешны.',\n",
    "                    'sagittarius':'Поведения человека: Облагораживать пространство, к примеру, свой дом и т.д. Если вы родились в период с 22 ноября по 21 декабря, ваш код поведения — облагораживать своё пространство. Вы из тех людей, кто умеет видеть красоту, имеет чувство стиля. Как правило, у таких людей очень красивый дом, так как они сами организуют это пространство. Эти люди могут реализовать себя в дизайнерстве, могут быть флористами, заниматься реставрацией. Всё, что связано с индустрией красоты, это для них. Кроме того, они должны украшать не только окружающие их места, но и самих себя — вот такое поведение принесёт им успех.',\n",
    "                    'capricorn':'Поведения человека: Должны делать карьеру, чтобы все им все помогали (родные и.т.д.) Последний код поведения, он принадлежит тем, кто родился в период с 22 декабря по 19 января. К чёрту эту гордость! Есть такая песня у Сергея Жукова. Именно вам, рождённым в этот период, необходимо убрать свою гордость и начать просить о помощи. Для вас очень важна карьера и продвижение. И ещё очень важно научиться просить других помогать вам в этом, потому что достигать больших высот вы можете с помощью других людей. Делать это в одиночку вам намного сложнее, у вас есть эта возможность обращаться к людям и, скорее всего, они вам будут помогать. Так ваши дела будут идти с наивысшим успехом. Хочу обратиться к девушкам, женщинам, рождённым в этот период. Вам ни в коем случае нельзя быть домохозяйками, для вас очень важна карьера, ваше развитие и реализация, поэтому какое- то хотя бы хобби вы должны иметь, иначе роль домохозяйки приведёт вас к апатии, вы будете чувствовать себя не на своём месте.'   \n",
    "                    }\n",
    "\n",
    "    day, month = map(int, day_month.split('.'))\n",
    "    \n",
    "    for sign, (start_day, start_month, end_day, end_month) in zodiac_ranges.items():\n",
    "        if (month == start_month and day >= start_day) or (month == end_month and day <= end_day):\n",
    "            return f'Код {zodiac_descriptions[sign]}'\n",
    "    \n",
    "    return 'Не удалось определить знак зодиака'\n",
    "\n",
    "code_behaviour = calculate_code_behaviour(day_month)\n",
    "print(code_behaviour)"
   ]
  },
  {
   "cell_type": "code",
   "execution_count": 616,
   "id": "279b7764",
   "metadata": {},
   "outputs": [
    {
     "name": "stdout",
     "output_type": "stream",
     "text": [
      "(1539, 15399)\n"
     ]
    }
   ],
   "source": [
    "# Финансовый Код, и Удачи\n",
    "input_date\n",
    "def calculation_richi_code(input_date):\n",
    "    def reduce_number(n):\n",
    "        n = str(n)\n",
    "        while len(n) > 1:\n",
    "            n = str(sum(int(d) for d in n))\n",
    "        return int(n)\n",
    "    \n",
    "    day, month, year = map(reduce_number, input_date.split('.'))\n",
    "    temp = reduce_number(day + month + year)\n",
    "    rich = int(f\"{day}{month}{year}{temp}\")\n",
    "    fortune = int(f\"{rich}{reduce_number(sum(map(int, str(rich))))}\")\n",
    "    \n",
    "    return rich, fortune\n",
    "\n",
    "richi_luck_code = calculation_richi_code(input_date)\n",
    "print(richi_luck_code)"
   ]
  },
  {
   "cell_type": "code",
   "execution_count": 617,
   "id": "fb47b462",
   "metadata": {},
   "outputs": [
    {
     "name": "stdout",
     "output_type": "stream",
     "text": [
      "Сердце, лёгкие. Желудок. Половые органы. \n"
     ]
    }
   ],
   "source": [
    "# Здоровье\n",
    "def calculate_health(life_code):\n",
    "    health_map = {\n",
    "        '1': 'Мозг, сосуды. ',\n",
    "        '2': 'Горло, щитовидная железа. ',\n",
    "        '3': 'Сердце, лёгкие. ',\n",
    "        '4': 'Поджелудочная железа. ',\n",
    "        '5': 'Желудок. ',\n",
    "        '6': 'Половые органы. '\n",
    "    }\n",
    "    return ''.join(health_map.get(str(i+1), '') for i, char in enumerate(life_code) if char in '01')\n",
    "\n",
    "health = calculate_health(life_code)\n",
    "    \n",
    "print(health)"
   ]
  },
  {
   "cell_type": "code",
   "execution_count": 618,
   "id": "af55268c",
   "metadata": {},
   "outputs": [
    {
     "name": "stdout",
     "output_type": "stream",
     "text": [
      "Алмаз и Жемчуг\n"
     ]
    }
   ],
   "source": [
    "def calculate_stone(destiny):\n",
    "    return {\n",
    "        '1': 'Рубин',\n",
    "        '2': 'Коралл',\n",
    "        '3': 'Топаз',\n",
    "        '4': 'Изумруд',\n",
    "        '5': 'Бирюза',\n",
    "        '6': 'Сапфир',\n",
    "        '7': 'Аметист',\n",
    "        '8': 'Розовый Кварц',\n",
    "        '9': 'Алмаз и Жемчуг'\n",
    "    }.get(destiny)\n",
    "\n",
    "luckie_stone = calculate_stone(destiny)\n",
    "print(luckie_stone)"
   ]
  },
  {
   "cell_type": "code",
   "execution_count": 619,
   "id": "fb58e585",
   "metadata": {},
   "outputs": [
    {
     "name": "stdout",
     "output_type": "stream",
     "text": [
      "М-9, Ж-3\n"
     ]
    }
   ],
   "source": [
    "# Считаем баланс Мужскую и Женскую энергию\n",
    "a = ','.join(list_table_piphagor).replace(',','')\n",
    "def calculate_male_female(energy_str):\n",
    "    male = sum(1 for d in energy_str if int(d) % 2)\n",
    "    female = len(energy_str) - male\n",
    "    return f'М-{male}, Ж-{female}'\n",
    "\n",
    "male_female = calculate_male_female(''.join(list_table_piphagor))\n",
    "print(male_female)"
   ]
  },
  {
   "cell_type": "code",
   "execution_count": 620,
   "id": "518520e6",
   "metadata": {},
   "outputs": [
    {
     "name": "stdout",
     "output_type": "stream",
     "text": [
      "код года: 6\n"
     ]
    }
   ],
   "source": [
    "# Прогноз на год\n",
    "# Текущий год\n",
    "# функция для получение 1 значного числа\n",
    "def calculate_1_number(number):\n",
    "    num = sum(int(d) for d in str(number))\n",
    "    return num if num < 10 else calculate_1_number(num)\n",
    "\n",
    "def calculate_forecast_year(input_date, year=None):\n",
    "    year = year or str(date.today().year)\n",
    "    day_month_sum = sum(int(d) for d in input_date.replace('.', '')[:4])\n",
    "    sum_year = sum(int(d) for d in year)\n",
    "    return calculate_1_number(day_month_sum + sum_year)\n",
    "\n",
    "forecast_year = calculate_forecast_year(input_date)\n",
    "print(f'код года: {forecast_year}')"
   ]
  },
  {
   "cell_type": "code",
   "execution_count": 621,
   "id": "24152bcf",
   "metadata": {},
   "outputs": [
    {
     "name": "stdout",
     "output_type": "stream",
     "text": [
      "Год Рока: 22,47,52,58,76,82\n"
     ]
    }
   ],
   "source": [
    "def calculate_fateful_year(life_code):\n",
    "    result = []\n",
    "    \n",
    "    # Создаем таблицу 6x14 лет (транспонированную)\n",
    "    years_table = [[i*6 + j for i in range(14)] for j in range(6)]\n",
    "    \n",
    "    for col_idx, digit in enumerate(life_code[:6]):  # Проверяем только первые 6 цифр\n",
    "        if digit == '0':\n",
    "            for year in years_table[col_idx]:\n",
    "                if year == 0:\n",
    "                    continue  # Пропускаем деление на 0\n",
    "                \n",
    "                # Сохраняем оригинальную логику вычисления\n",
    "                division_result = round(int(life_code) / year)\n",
    "                third_digit = str(division_result)[2] if len(str(division_result)) > 2 else '0'\n",
    "                \n",
    "                if third_digit == '0':\n",
    "                    result.append(str(year))\n",
    "    \n",
    "    # Удаляем дубликаты и сортируем\n",
    "    unique_years = sorted(set(result), key=int)\n",
    "    return ','.join(unique_years) if unique_years else ''\n",
    "\n",
    "fateful_year = calculate_fateful_year(life_code)\n",
    "print(f'Год Рока: {fateful_year}')"
   ]
  },
  {
   "cell_type": "code",
   "execution_count": 622,
   "id": "15c9d16b",
   "metadata": {},
   "outputs": [
    {
     "name": "stdout",
     "output_type": "stream",
     "text": [
      "Солнце: 6, Луна: 5, Итог: 1, ('В возрасте: 42. В семье возможна беременность, рождение детей или внуков.',)\n"
     ]
    }
   ],
   "source": [
    "# Вычисляем год без учёта дня рождения а просто на основании года\n",
    "def calculate_current_age(input_date):\n",
    "    day, month, year = input_date.split('.')\n",
    "    day, month, year = int(day), int(month), int(year)\n",
    "    today = date.today() # Получение текущей даты с помощью функции `today()`\n",
    "    birthdate = date(year, month, day) # Превращение года, месяца и дня в дату рождения\n",
    "    # Расчёт возраста\n",
    "    age = today.year - birthdate.year # - ((today.month, today.day) < (birthdate.month, birthdate.day))\n",
    "    return age # Возвращение значения возраста\n",
    "# Возраст по году рождения и текущего года (без точного учёта по дате и месяцу)\n",
    "current_age = calculate_current_age(input_date)\n",
    "\n",
    "# Жизненный код преобразовываем в числовой формат делим на дату\n",
    "def calculate_luna_sun_code(life_code, input_year):    \n",
    "    # Жизненный код делим на возраст, отделяем первые 4 символа и преобразовываем с строковый элемент\n",
    "    luna_sun_code = str(int(life_code) / input_year)[:4]\n",
    "    luna = luna_sun_code[:2] # Отделяем первые 2 символа\n",
    "    luna = int(luna[0]) + int(luna[1]) # И складываем их между собой \n",
    "    sun = luna_sun_code[2:] # Отделяем последние 2 символа\n",
    "    if sun[0] == '0': # Если первый символ ноль \n",
    "        sun = int(sun[0]) # Солнце равно ноль\n",
    "    else: # Иначе\n",
    "        sun = int(sun[0]) + int(sun[1]) # Складываем 1 и 2 числа\n",
    "    adv = ''\n",
    "    if luna or sun in [1,7,10]:# Дополнить вывод обязательно!!!\n",
    "        adv = 'В семье возможна беременность, рождение детей или внуков'\n",
    "        if luna == 13:\n",
    "            adv += 'Будьте по внимательнее в этом году!'\n",
    "    if sun == 13:\n",
    "        adv += 'В этом году будет вам Куш!'\n",
    "    total = sun-luna #\n",
    "    if total == 13:\n",
    "        adv += 'Ожидайте очень большой Куш!'\n",
    "    if sun and total == 10:\n",
    "        adv += 'Возможен переезд в этом году'\n",
    "    temp_list = list(range(-10, 11))\n",
    "    # list_life_code = [int(i) for i in life_code]\n",
    "    if total not in temp_list:\n",
    "        total = str(total)\n",
    "        total = int(total[:-1]) - int(total[-1]) \n",
    "    if adv:\n",
    "        return (sun, luna, total,  f'В возрасте: {input_year}. {adv}.')\n",
    "    else:\n",
    "        return (sun, luna, total, f'В возрасте: {input_year}.')\n",
    "        \n",
    "resoult_year = calculate_luna_sun_code(life_code, your_age) # Прогноз на год введёный год из жизненного кода\n",
    "print(f'Солнце: {resoult_year[0]}, Луна: {resoult_year[1]}, Итог: {resoult_year[2]}, {resoult_year[3:]}')"
   ]
  },
  {
   "cell_type": "code",
   "execution_count": 623,
   "id": "82df2eb3",
   "metadata": {},
   "outputs": [
    {
     "name": "stdout",
     "output_type": "stream",
     "text": [
      "Солнце: 6, Луна: 5, Итог: 1, В возрасте: 42.\n"
     ]
    }
   ],
   "source": [
    "from datetime import date\n",
    "\n",
    "def calculate_current_age(input_date):\n",
    "    return date.today().year - int(input_date.split('.')[2])\n",
    "\n",
    "current_age = calculate_current_age(input_date)\n",
    "\n",
    "def calculate_luna_sun_code(life_code, input_year):\n",
    "    luna_sun_code = str(int(life_code) / input_year)[:4]\n",
    "    luna = sum(map(int, luna_sun_code[:2]))\n",
    "    sun = int(luna_sun_code[2]) if luna_sun_code[2] == '0' else sum(map(int, luna_sun_code[2:]))\n",
    "    \n",
    "    adv = []\n",
    "    if luna in {1,7,10} or sun in {1,7,10}:\n",
    "        adv.append('В семье возможна беременность, рождение детей или внуков')\n",
    "        if luna == 13:\n",
    "            adv.append('Будьте по внимательнее в этом году!')\n",
    "    if sun == 13:\n",
    "        adv.append('В этом году будет вам Куш!')\n",
    "    \n",
    "    total = sun - luna\n",
    "    if total == 13:\n",
    "        adv.append('Ожидайте очень большой Куш!')\n",
    "    if sun and total == 10:\n",
    "        adv.append('Возможен переезд в этом году')\n",
    "    \n",
    "    if total not in range(-10, 11):\n",
    "        total_str = str(total)\n",
    "        total = int(total_str[:-1]) - int(total_str[-1])\n",
    "    \n",
    "    message = f'В возрасте: {input_year}.' + (' ' + '. '.join(adv) + '.' if adv else '')\n",
    "    \n",
    "    return (sun, luna, total, message)\n",
    "\n",
    "resoult_year = calculate_luna_sun_code(life_code, current_age)\n",
    "print(f'Солнце: {resoult_year[0]}, Луна: {resoult_year[1]}, Итог: {resoult_year[2]}, {resoult_year[3]}')"
   ]
  },
  {
   "cell_type": "code",
   "execution_count": 632,
   "id": "7951d8ce",
   "metadata": {},
   "outputs": [
    {
     "name": "stdout",
     "output_type": "stream",
     "text": [
      "\n",
      "Таблица пифагора\n",
      "+-----------------+--------------+----------------+----------------+\n",
      "|  Дата рождения  |  Энергетика  |  Число судьбы  |  Темперамент   |\n",
      "|   10.05.1983    |   М-9, Ж-3   |       9        |       5        |\n",
      "+=================+==============+================+================+\n",
      "|    Характер     |   Здоровье   |    Харизма     | Самореализация |\n",
      "|       11        |              |       77       |       4        |\n",
      "+-----------------+--------------+----------------+----------------+\n",
      "|     Энергия     |    Логика    |     Удача      |  Помощь семье  |\n",
      "|       22        |      55      |       8        |       5        |\n",
      "+-----------------+--------------+----------------+----------------+\n",
      "|     Интерес     |     Труд     |     Память     |    Привычки    |\n",
      "|        3        |              |       99       |       3        |\n",
      "+-----------------+--------------+----------------+----------------+\n",
      "|   Самооценка    |  Семья, быт  |     Талант     |   Духовность   |\n",
      "|        5        |      2       |       5        |       6        |\n",
      "+-----------------+--------------+----------------+----------------+\n",
      "\n",
      "Таблица пифагора + число имени\n",
      "+-----------------+--------------+----------------+----------------+\n",
      "|  Дата рождения  |  Энергетика  |  Число судьбы  |  Темперамент   |\n",
      "|   10.05.1983    |   М-9, Ж-3   |       9        |       5        |\n",
      "+=================+==============+================+================+\n",
      "|    Характер     |   Здоровье   |    Харизма     | Самореализация |\n",
      "|       11        |              |       77       |       4        |\n",
      "+-----------------+--------------+----------------+----------------+\n",
      "|     Энергия     |    Логика    |     Удача      |  Помощь семье  |\n",
      "|       222       |      55      |       8        |       5        |\n",
      "+-----------------+--------------+----------------+----------------+\n",
      "|     Интерес     |     Труд     |     Память     |    Привычки    |\n",
      "|        3        |              |       99       |       3        |\n",
      "+-----------------+--------------+----------------+----------------+\n",
      "|   Самооценка    |  Семья, быт  |     Талант     |   Духовность   |\n",
      "|        5        |      2       |       5        |       6        |\n",
      "+-----------------+--------------+----------------+----------------+\n",
      "\n",
      "Дополнения\n",
      "+-------------------+-------------------+------------------------------------------+\n",
      "|  Жизненный Код:   |  Прогноз Солнца:  |            Ваш камень удачи:             |\n",
      "|      991500       |         6         |              Алмаз и Жемчуг              |\n",
      "+===================+===================+==========================================+\n",
      "|  Зрелость души:   |   Прогноз Луны:   |            Психотип личности:            |\n",
      "|        12         |         5         |                  Мудрец                  |\n",
      "+-------------------+-------------------+------------------------------------------+\n",
      "|  Код Богатства:   |    Итог года:     |                Здоровье:                 |\n",
      "|       1539        |         1         | Сердце, лёгкие. Желудок. Половые органы. |\n",
      "+-------------------+-------------------+------------------------------------------+\n",
      "|    Код Удачи:     |   Тех.расклад:    |                года Рока:                |\n",
      "|       15399       |    Тела и души    |            22,47,52,58,76,82             |\n",
      "|                   |  ('279', '257')   |                                          |\n",
      "+-------------------+-------------------+------------------------------------------+\n",
      "| Счастливые числа: |   Персональное    |               Число имени:               |\n",
      "|      9-18-27      |    число года:    |                    2                     |\n",
      "|                   |         6         |                                          |\n",
      "+-------------------+-------------------+------------------------------------------+\n",
      "\n",
      "Вы ввели дату рождения: 10.05.1983\n",
      "Вы ввели имя: Тимур\n",
      "Возраст на текущий день: 42\n",
      "\n",
      "\n",
      "Код Поведения человека: Независимость Рождённые с 21 апреля по 20 мая, ваш код поведения — независимость. Здесь речь как о финансовой, так и духовной независимости. Если вы привязываетесь эмоционально к человеку, растворяетесь в нём и теряете себя, ставите его выше своих интересов — это ваша главная ошибка. Вам ни в коем случае этого делать нельзя. Есть даже закономерность, что тельцам чаще изменяют, тельцов чаще предают. Потому что своей эмоциональной привязанностью они душат другого человека и провоцируют на такое поведение. Поэтому, чтобы в вашей жизни складывалось всё хорошо, возьмите себе за правило — не привязываться ни к кому, ни эмоционально, ни финансово.\n",
      "\n",
      "Солнце: 6, Луна: 5, Итог: 1,\n",
      "('В возрасте: 42.',)\n"
     ]
    }
   ],
   "source": [
    "# Построение графической таблицы Пифагора\n",
    "from tabulate import tabulate\n",
    "\n",
    "heads= [f'Дата рождения\\n{input_date}', f'Энергетика\\n{male_female}', f'Число судьбы\\n{destiny}', f'Темперамент\\n{temperament}']\n",
    "piphagor = [[f'Характер\\n{list_table_piphagor[0]}', f'Здоровье\\n{list_table_piphagor[3]}', f'Харизма\\n{list_table_piphagor[6]}', f'Самореализация\\n{realization}'], \n",
    "            [f'Энергия\\n{list_table_piphagor[1]}', f'Логика\\n{list_table_piphagor[4]}', f'Удача\\n{list_table_piphagor[7]}', f'Помощь семье\\n{helping_family}'],\n",
    "            [f'Интерес\\n{list_table_piphagor[2]}',f'Труд\\n{list_table_piphagor[5]}',f'Память\\n{list_table_piphagor[8]}', f'Привычки\\n{habits}'],\n",
    "            [f'Самооценка\\n{self_assessment}', f'Семья, быт\\n{family_life}', f'Талант\\n{talents}', f'Духовность\\n{spirituality}']]\n",
    "\n",
    "name_heads= [f'Дата рождения\\n{input_date}', f'Энергетика\\n{male_female}', f'Число судьбы\\n{destiny}', f'Темперамент\\n{temperament}']\n",
    "name_piphagor = [[f'Характер\\n{name_list_table_piphagor[0]}', f'Здоровье\\n{name_list_table_piphagor[3]}', f'Харизма\\n{name_list_table_piphagor[6]}', f'Самореализация\\n{realization}'], \n",
    "            [f'Энергия\\n{name_list_table_piphagor[1]}', f'Логика\\n{name_list_table_piphagor[4]}', f'Удача\\n{name_list_table_piphagor[7]}', f'Помощь семье\\n{helping_family}'],\n",
    "            [f'Интерес\\n{name_list_table_piphagor[2]}',f'Труд\\n{name_list_table_piphagor[5]}',f'Память\\n{name_list_table_piphagor[8]}', f'Привычки\\n{habits}'],\n",
    "            [f'Самооценка\\n{self_assessment}', f'Семья, быт\\n{family_life}', f'Талант\\n{talents}', f'Духовность\\n{spirituality}']]\n",
    "\n",
    "\n",
    "heads_2 = [f'Жизненный Код:\\n{life_code}', f'Прогноз Солнца:\\n{resoult_year[0]}',f'Ваш камень удачи:\\n{luckie_stone}']\n",
    "piphagor_2 = [[f'Зрелость души:\\n{reincarnation}',f'Прогноз Луны:\\n{resoult_year[1]}',f'Психотип личности:\\n{life_code_value}'],\n",
    "            [f'Код Богатства:\\n{richi_luck_code[0]}',f'Итог года:\\n{resoult_year[2]}',f'Здоровье:\\n{health}'],\n",
    "            [f'Код Удачи:\\n{richi_luck_code[1]}',f'Тех.расклад:\\nТела и души\\n{body_soul}',f'года Рока:\\n{fateful_year}'],\n",
    "            [f'Счастливые числа:\\n{luckie_numbers}',f'Персональное\\nчисло года:\\n{forecast_year}', f'Число имени:\\n{count_name}']            \n",
    "    ]\n",
    "print()\n",
    "print('Таблица пифагора')\n",
    "print(tabulate(piphagor, headers=heads, tablefmt=\"grid\",stralign='center', showindex=False))\n",
    "print()\n",
    "print('Таблица пифагора + число имени')\n",
    "print(tabulate(name_piphagor, headers=name_heads, tablefmt=\"grid\",stralign='center', showindex=False))\n",
    "print()\n",
    "print('Дополнения')\n",
    "print(tabulate(piphagor_2, headers=heads_2, tablefmt=\"grid\",stralign='center', showindex=False))\n",
    "\n",
    "print()\n",
    "print(f'Вы ввели дату рождения: {input_date}')\n",
    "print(f'Вы ввели имя: {input_name}')\n",
    "print(f'Возраст на текущий день: {your_age}')\n",
    "print()\n",
    "\n",
    "print()\n",
    "print(code_behaviour)\n",
    "print()\n",
    "print(f'Солнце: {resoult_year[0]}, Луна: {resoult_year[1]}, Итог: {resoult_year[2]},\\n{resoult_year[3:]}')\n"
   ]
  }
 ],
 "metadata": {
  "kernelspec": {
   "display_name": "Python 3",
   "language": "python",
   "name": "python3"
  },
  "language_info": {
   "codemirror_mode": {
    "name": "ipython",
    "version": 3
   },
   "file_extension": ".py",
   "mimetype": "text/x-python",
   "name": "python",
   "nbconvert_exporter": "python",
   "pygments_lexer": "ipython3",
   "version": "3.13.2"
  }
 },
 "nbformat": 4,
 "nbformat_minor": 5
}
