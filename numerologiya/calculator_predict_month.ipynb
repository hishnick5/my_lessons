{
 "cells": [
  {
   "cell_type": "code",
   "execution_count": 4,
   "id": "7bfb7541",
   "metadata": {},
   "outputs": [
    {
     "name": "stdout",
     "output_type": "stream",
     "text": [
      "+------------+-------------+-------------+\n",
      "|   Классика |   Аркан v_1 |   Аркан v_2 |\n",
      "+============+=============+=============+\n",
      "|          3 |          21 |          22 |\n",
      "+------------+-------------+-------------+\n"
     ]
    }
   ],
   "source": [
    "import pandas as pd\n",
    "import numpy as np\n",
    "from tabulate import tabulate\n",
    "\n",
    "input_data = '24.03.1988'\n",
    "predict_data = '04.08.2024'\n",
    "brth_day, brth_month, brth_year = input_data.split('.')\n",
    "pre_day, pre_month, pre_year = predict_data.split('.')\n",
    "\n",
    "def check_arkan(number_str: str) -> int:\n",
    "    n = int(number_str)\n",
    "    while n >= 100: # Суммируем цифры, пока число не станет двузначным\n",
    "        n = sum(int(d) for d in str(n))\n",
    "    return n % 22 if n > 22 else n # Приводим к аркану (1–22)\n",
    "\n",
    "def classic_numb(brth_day, brth_month, pre_month, pre_year): # classic_version\n",
    "    digits = ''.join([brth_day, brth_month, pre_month, pre_year])\n",
    "    return check_arkan(digits)\n",
    "\n",
    "def arkan_1(brth_day, brth_month, pre_month, pre_year): # arkan_versiion1\n",
    "    arkan_list = [check_arkan(x) for x in [brth_day, brth_month, pre_month, pre_year]]\n",
    "    return check_arkan(sum(arkan_list)) # Возващаем сумму Арканов преобразованную в Аркан\n",
    "\n",
    "def arkan_2(brth_day, pre_month, pre_year): # arkan_versiion2\n",
    "    united = ''.join([brth_day, pre_month, pre_year]).replace('.', '').replace('0', '') # Складываем день рождения + прогнозируемый месяц + прогнозируемый год # Очищенная дата без точек и нулей ввиде строки\n",
    "    return check_arkan(united)\n",
    "    \n",
    "\n",
    "classic_version = classic_numb(brth_day, brth_month, pre_month, pre_year)\n",
    "arkan_version_1 = arkan_1(brth_day, brth_month, pre_month, pre_year)\n",
    "arkan_version_2 = arkan_2(brth_day, pre_month, pre_year)\n",
    "\n",
    "\n",
    "heads = ['Классика', 'Аркан v_1', 'Аркан v_2', 'Аркан v_3']\n",
    "body = [\n",
    "        [classic_version, arkan_version_1, arkan_version_2]\n",
    "        ]\n",
    "\n",
    "print(tabulate(body, headers=heads, tablefmt=\"grid\", stralign='center', showindex=False))\n"
   ]
  },
  {
   "cell_type": "code",
   "execution_count": null,
   "id": "2aba6352",
   "metadata": {},
   "outputs": [
    {
     "name": "stdout",
     "output_type": "stream",
     "text": [
      "1\n"
     ]
    }
   ],
   "source": [
    "def check_arkan(number_str: str) -> int:\n",
    "    n = int(number_str)\n",
    "\n",
    "    # Суммируем цифры, пока число не станет двузначным\n",
    "    while n >= 100:\n",
    "        n = sum(int(d) for d in str(n))\n",
    "\n",
    "    # Приводим к аркану (1–22)\n",
    "    return n if n <= 22 else (n - 1) % 22 + 1\n"
   ]
  },
  {
   "cell_type": "code",
   "execution_count": null,
   "id": "8d332c29",
   "metadata": {},
   "outputs": [
    {
     "data": {
      "text/plain": [
       "19"
      ]
     },
     "execution_count": 68,
     "metadata": {},
     "output_type": "execute_result"
    }
   ],
   "source": [
    "#как оптимизировать код в функции arkan_1?\n",
    "\n",
    "input_data = '31.12.1988'\n",
    "predict_data = '31.10.2026'\n",
    "brth_day, brth_month, brth_year = input_data.split('.')\n",
    "pre_day, pre_month, pre_year = predict_data.split('.')\n",
    "\n",
    "def check_arkan(number_str: str) -> int:\n",
    "    n = int(number_str)\n",
    "    while n >= 100: # Суммируем цифры, пока число не станет двузначным\n",
    "        n = sum(int(d) for d in str(n))\n",
    "    return n % 22 if n > 22 else n # Приводим к аркану (1–22)\n",
    "\n",
    "def arkan_1(brth_day, brth_month, pre_month, pre_year): # arkan_versiion1\n",
    "    arkan_list = [check_arkan(x) for x in [brth_day, brth_month, pre_month, pre_year]]\n",
    "    return check_arkan(sum(arkan_list)) # Возващаем сумму Арканов преобразованную в Аркан\n",
    "\n",
    "a = arkan_1(brth_day, brth_month, pre_month, pre_year)\n",
    "a"
   ]
  },
  {
   "cell_type": "code",
   "execution_count": 73,
   "id": "d73149f5",
   "metadata": {},
   "outputs": [
    {
     "data": {
      "text/plain": [
       "5"
      ]
     },
     "execution_count": 73,
     "metadata": {},
     "output_type": "execute_result"
    }
   ],
   "source": [
    "def check_arkan(number_str: str) -> int:\n",
    "    n = int(number_str)\n",
    "    while n >= 100: # Суммируем цифры, пока число не станет двузначным\n",
    "        n = sum(int(d) for d in str(n))\n",
    "    #return n if n <= 22 else (n - 1) % 22 + 1 # Приводим к аркану (1–22)\n",
    "    return n % 22 if n > 22 else n\n",
    "a = check_arkan('5')\n",
    "a"
   ]
  }
 ],
 "metadata": {
  "kernelspec": {
   "display_name": "Python 3",
   "language": "python",
   "name": "python3"
  },
  "language_info": {
   "codemirror_mode": {
    "name": "ipython",
    "version": 3
   },
   "file_extension": ".py",
   "mimetype": "text/x-python",
   "name": "python",
   "nbconvert_exporter": "python",
   "pygments_lexer": "ipython3",
   "version": "3.13.2"
  }
 },
 "nbformat": 4,
 "nbformat_minor": 5
}
