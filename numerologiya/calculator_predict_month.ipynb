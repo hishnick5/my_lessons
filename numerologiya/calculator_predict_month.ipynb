{
 "cells": [
  {
   "cell_type": "code",
   "execution_count": 5,
   "id": "7bfb7541",
   "metadata": {},
   "outputs": [
    {
     "name": "stdout",
     "output_type": "stream",
     "text": [
      "Прогноз на месяц\n",
      "+------------+------------+------------+\n",
      "|   Версия_1 |   Версия_2 |   Версия_3 |\n",
      "+============+============+============+\n",
      "|          3 |         21 |         22 |\n",
      "+------------+------------+------------+\n"
     ]
    }
   ],
   "source": [
    "import pandas as pd\n",
    "import numpy as np\n",
    "from tabulate import tabulate\n",
    "\n",
    "input_data = '24.03.1988'\n",
    "predict_data = '04.08.2024'\n",
    "\n",
    "def calculated_predict_month(input_data, predict_data):\n",
    "    brth_day, brth_month, brth_year = input_data.split('.')\n",
    "    pre_day, pre_month, pre_year = predict_data.split('.')\n",
    "\n",
    "    def convert_arkan(number_str: str) -> int: # Функция преобразования числа в Аркан, принимает строчное, возвращает числовое значение\n",
    "        n = int(number_str) \n",
    "        while n >= 100: # Суммируем цифры, пока число не станет двузначным\n",
    "            n = sum(int(d) for d in str(n))\n",
    "        return n % 22 if n > 22 else n # Приводим к аркану (1–22)\n",
    "\n",
    "    def classic_numb(brth_day, brth_month, pre_month, pre_year): # Версия_1\n",
    "        digits = ''.join([brth_day, brth_month, pre_month, pre_year]) # Складываем день и меяц рождения + прогнозируемый месяц и год\n",
    "        return convert_arkan(digits) # Преобразовываем в Аркан и возвращаем результат\n",
    "\n",
    "    def arkan_1(brth_day, brth_month, pre_month, pre_year): # arkan_versiion1\n",
    "        arkan_list = [convert_arkan(x) for x in [brth_day, brth_month, pre_month, pre_year]] # Преобразовываем в Аркан день и месяц рождения а также прогнозируемый месяц и год\n",
    "        return convert_arkan(sum(arkan_list)) # Возващаем сумму Арканов преобразованную в Аркан\n",
    "\n",
    "    def arkan_2(brth_day, pre_month, pre_year): # arkan_versiion2\n",
    "        united = ''.join([brth_day, pre_month, pre_year]).replace('.', '').replace('0', '') # Складываем день рождения + прогнозируемый месяц и год без '.' и '0'\n",
    "        return convert_arkan(united) # Преобразовываем в Аркан и возвращаем результат\n",
    "        \n",
    "    predict_v1 = classic_numb(brth_day, brth_month, pre_month, pre_year)\n",
    "    predict_v2 = arkan_1(brth_day, brth_month, pre_month, pre_year)\n",
    "    predict_v3 = arkan_2(brth_day, pre_month, pre_year)\n",
    "\n",
    "    heads = ['Версия_1', 'Версия_2', 'Версия_3']\n",
    "    body = [[predict_v1, predict_v2, predict_v3]]\n",
    "    return heads, body\n",
    "\n",
    "heads, body = calculated_predict_month(input_data, predict_data)\n",
    "\n",
    "print('Прогноз на месяц')\n",
    "print(tabulate(body, headers=heads, tablefmt=\"grid\", stralign='center', showindex=False))"
   ]
  }
 ],
 "metadata": {
  "kernelspec": {
   "display_name": "Python 3",
   "language": "python",
   "name": "python3"
  },
  "language_info": {
   "codemirror_mode": {
    "name": "ipython",
    "version": 3
   },
   "file_extension": ".py",
   "mimetype": "text/x-python",
   "name": "python",
   "nbconvert_exporter": "python",
   "pygments_lexer": "ipython3",
   "version": "3.13.2"
  }
 },
 "nbformat": 4,
 "nbformat_minor": 5
}
