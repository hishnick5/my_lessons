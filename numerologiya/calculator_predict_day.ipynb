{
 "cells": [
  {
   "cell_type": "code",
   "execution_count": 2,
   "id": "8469e4be",
   "metadata": {},
   "outputs": [
    {
     "name": "stdout",
     "output_type": "stream",
     "text": [
      "+-------------+-------------+-------------+\n",
      "|   Version_1 |   Version_2 |   Version_3 |\n",
      "+=============+=============+=============+\n",
      "|           7 |           3 |           4 |\n",
      "+-------------+-------------+-------------+\n"
     ]
    }
   ],
   "source": [
    "import pandas as pd\n",
    "import numpy as np\n",
    "from tabulate import tabulate\n",
    "\n",
    "# можем оптимизировать функцию form_1 ?\n",
    "input_data = '24.03.1988'\n",
    "predict_data = '04.08.2024'\n",
    "brth_day, brth_month, brth_year = input_data.split('.')\n",
    "pre_day, pre_month, pre_year = predict_data.split('.')\n",
    "\n",
    "def check_arkan(number_str: str) -> int:\n",
    "    n = int(number_str)\n",
    "    while n >= 100: # Суммируем цифры, пока число не станет двузначным\n",
    "        n = sum(int(d) for d in str(n))\n",
    "    return n % 22 if n > 22 else n # Приводим к аркану (1–22)\n",
    "\n",
    "def form_1(brth_day, brth_month, pre_day, pre_month, pre_year):\n",
    "    digits = ''.join([brth_day, brth_month, pre_day, pre_month, pre_year])\n",
    "    return check_arkan(digits)\n",
    "\n",
    "def form_2(brth_day, brth_month, pre_day, pre_month, pre_year):\n",
    "    arkan_list = [check_arkan(x) for x in [brth_day, brth_month, pre_day, pre_month, pre_year]]\n",
    "    return check_arkan(sum(arkan_list))\n",
    "\n",
    "def form_3(brth_day, pre_day, pre_month, pre_year):\n",
    "    digits = ''.join([brth_day, pre_day, pre_month, pre_year])\n",
    "    return check_arkan(digits)\n",
    "\n",
    "predict_v1 = form_1(brth_day, brth_month, pre_day, pre_month, pre_year)\n",
    "predict_v2 = form_2(brth_day, brth_month, pre_day, pre_month, pre_year)\n",
    "predict_v3 = form_3(brth_day, pre_day, pre_month, pre_year)\n",
    "\n",
    "heads = ['Version_1', 'Version_2', 'Version_3']\n",
    "body = [\n",
    "        [predict_v1, predict_v2, predict_v3]\n",
    "        ]\n",
    "\n",
    "print(tabulate(body, headers=heads, tablefmt=\"grid\", stralign='center', showindex=False))"
   ]
  }
 ],
 "metadata": {
  "kernelspec": {
   "display_name": "Python 3",
   "language": "python",
   "name": "python3"
  },
  "language_info": {
   "codemirror_mode": {
    "name": "ipython",
    "version": 3
   },
   "file_extension": ".py",
   "mimetype": "text/x-python",
   "name": "python",
   "nbconvert_exporter": "python",
   "pygments_lexer": "ipython3",
   "version": "3.13.2"
  }
 },
 "nbformat": 4,
 "nbformat_minor": 5
}
