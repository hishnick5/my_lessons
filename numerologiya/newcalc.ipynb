{
 "cells": [
  {
   "cell_type": "markdown",
   "id": "2858ec7f",
   "metadata": {},
   "source": [
    "10.05.1983 Ya <br>, \n",
    "28.05.1988 Sestra<br>,\n",
    "29.01.1959 Mama<br>,\n",
    "25.09.1958 Papa<br>,\n",
    "10.08.1997 Alyona Serobaba<br>,\n",
    "15.12.1981 Natasha Ufa<br>,\n",
    "21.04.1999 Katya admin <br>,\n",
    "24.03.1988 Sasha Numerolog<br>,\n",
    "26.08.1984 Nastya Tver<br>,\n",
    "09.06.1963 Jonny Depp<br>,\n",
    "06.03.2001 Dusha = 000"
   ]
  },
  {
   "cell_type": "code",
   "execution_count": 4,
   "id": "2553b8df",
   "metadata": {},
   "outputs": [
    {
     "name": "stdout",
     "output_type": "stream",
     "text": [
      "07.04.2025\n",
      "Numpy version. 2.2.4\n",
      "Pandas version. 2.2.3\n"
     ]
    }
   ],
   "source": [
    "import pandas as pd\n",
    "import numpy as np\n",
    "np.set_printoptions(precision=2)\n",
    "from pprint import pprint\n",
    "from odf import text, teletype\n",
    "from odf.opendocument import load\n",
    "from datetime import date\n",
    "temp_date = date.today()\n",
    "current_date = '.'.join((str(temp_date)).split('-')[::-1])\n",
    "def calculate_age(day, month, year):\n",
    "    # Получение текущей даты с помощью функции `today()` [4],\n",
    "    today = date.today()\n",
    "    # Превращение года, месяца и дня в дату рождения,\n",
    "    birthdate = date(year, month, day)\n",
    "    # Расчёт возраста,\n",
    "    age = today.year - birthdate.year - ((today.month, today.day) < (birthdate.month, birthdate.day))\n",
    "    # Возвращение значения возраста,\n",
    "    return age\n",
    "# получаем возраст,\n",
    "#a = calculate_age(10, 5, 1983),\n",
    "#print(f'Ваш возраст: {a}'),\n",
    "print(current_date)\n",
    "print('Numpy version.', np.__version__)\n",
    "print('Pandas version.', pd.__version__)"
   ]
  },
  {
   "cell_type": "code",
   "execution_count": null,
   "id": "ad2a1bc1",
   "metadata": {},
   "outputs": [],
   "source": [
    "#Высчитывает технический расклад человека\n",
    "# input_date = input('Введите свою дату рождения ввиде \\день месяц год\\ через знак припинания точка(.) xx.xx.xxxx'),\n",
    "input_date = '21.04.1999',\n",
    "input_name = 'Екатерина',\n",
    "# Проверка на ввод день и месяца в двузначном виде xx.xx.,\n",
    "def check_month(input_date):\n",
    "    result = input_date\n",
    "    day, month, year = input_date.split('.')\n",
    "    if len(day) == 1:\n",
    "        day = '0'+ day\n",
    "        result = '.'.join([day, month, year])\n",
    "    if len(month) == 1:\n",
    "        month = '0'+ month\n",
    "        result = '.'.join([day, month, year])\n",
    "    if len(year) != 4:\n",
    "        return 'input Error'\n",
    "    return result\n",
    "# Перезаписываем дату вводу,\n",
    "input_date = check_month(input_date)\n",
    "# Высчитываем точный возраст по текущей дате и дате рождения,\n",
    "def calculate_age(input_date):\n",
    "    if input_date == 'input Error':\n",
    "        return 'Не верные данные'\n",
    "    day, month, year = input_date.split('.')\n",
    "    day, month, year = int(day), int(month), int(year)\n",
    "    # Получение текущей даты с помощью функции `today()` [4],\n",
    "    today = date.today()\n",
    "    # Превращение года, месяца и дня в дату рождения,\n",
    "    birthdate = date(year, month, day)\n",
    "    # Расчёт возраста,\n",
    "    age = today.year - birthdate.year - ((today.month, today.day) < (birthdate.month, birthdate.day))\n",
    "    # Возвращение значения возраста,\n",
    "    return age\n",
    "# Записываем точный возраст,\n",
    "your_age = calculate_age(input_date)\n",
    "#print(f'Вы ввели дату рождения: {input_date}')\n",
    "print(f'Возраст по дате рождения: {your_age}')"
   ]
  },
  {
   "cell_type": "code",
   "execution_count": 6,
   "id": "83cd7020",
   "metadata": {},
   "outputs": [
    {
     "data": {
      "text/plain": [
       "['21', '04', '1999']"
      ]
     },
     "execution_count": 6,
     "metadata": {},
     "output_type": "execute_result"
    }
   ],
   "source": [
    "a = '21.04.1999'\n",
    "b = a.split('.')\n",
    "b"
   ]
  },
  {
   "cell_type": "code",
   "execution_count": 9,
   "id": "52f181c9",
   "metadata": {},
   "outputs": [
    {
     "ename": "AttributeError",
     "evalue": "'tuple' object has no attribute 'split'",
     "output_type": "error",
     "traceback": [
      "\u001b[31m---------------------------------------------------------------------------\u001b[39m",
      "\u001b[31mAttributeError\u001b[39m                            Traceback (most recent call last)",
      "\u001b[36mCell\u001b[39m\u001b[36m \u001b[39m\u001b[32mIn[9]\u001b[39m\u001b[32m, line 17\u001b[39m\n\u001b[32m     15\u001b[39m     \u001b[38;5;28;01mreturn\u001b[39;00m result\n\u001b[32m     16\u001b[39m \u001b[38;5;66;03m# Перезаписываем дату вводу,\u001b[39;00m\n\u001b[32m---> \u001b[39m\u001b[32m17\u001b[39m input_date = \u001b[43mcheck_month\u001b[49m\u001b[43m(\u001b[49m\u001b[43minput_date\u001b[49m\u001b[43m)\u001b[49m\n",
      "\u001b[36mCell\u001b[39m\u001b[36m \u001b[39m\u001b[32mIn[9]\u001b[39m\u001b[32m, line 6\u001b[39m, in \u001b[36mcheck_month\u001b[39m\u001b[34m(input_date)\u001b[39m\n\u001b[32m      4\u001b[39m \u001b[38;5;28;01mdef\u001b[39;00m\u001b[38;5;250m \u001b[39m\u001b[34mcheck_month\u001b[39m(input_date):\n\u001b[32m      5\u001b[39m     result = input_date\n\u001b[32m----> \u001b[39m\u001b[32m6\u001b[39m     day, month, year = \u001b[43minput_date\u001b[49m\u001b[43m.\u001b[49m\u001b[43msplit\u001b[49m(\u001b[33m'\u001b[39m\u001b[33m.\u001b[39m\u001b[33m'\u001b[39m)\n\u001b[32m      7\u001b[39m     \u001b[38;5;28;01mif\u001b[39;00m \u001b[38;5;28mlen\u001b[39m(day) == \u001b[32m1\u001b[39m:\n\u001b[32m      8\u001b[39m         day = \u001b[33m'\u001b[39m\u001b[33m0\u001b[39m\u001b[33m'\u001b[39m+ day\n",
      "\u001b[31mAttributeError\u001b[39m: 'tuple' object has no attribute 'split'"
     ]
    }
   ],
   "source": [
    "input_date = '21.04.1999',\n",
    "input_name = 'Екатерина',\n",
    "# Проверка на ввод день и месяца в двузначном виде xx.xx.,\n",
    "def check_month(input_date):\n",
    "    result = input_date\n",
    "    day, month, year = input_date.split('.')\n",
    "    if len(day) == 1:\n",
    "        day = '0'+ day\n",
    "        result = '.'.join([day, month, year])\n",
    "    if len(month) == 1:\n",
    "        month = '0'+ month\n",
    "        result = '.'.join([day, month, year])\n",
    "    if len(year) != 4:\n",
    "        return 'input Error'\n",
    "    return result\n",
    "# Перезаписываем дату вводу,\n",
    "input_date = check_month(input_date)"
   ]
  }
 ],
 "metadata": {
  "kernelspec": {
   "display_name": "Python 3",
   "language": "python",
   "name": "python3"
  },
  "language_info": {
   "codemirror_mode": {
    "name": "ipython",
    "version": 3
   },
   "file_extension": ".py",
   "mimetype": "text/x-python",
   "name": "python",
   "nbconvert_exporter": "python",
   "pygments_lexer": "ipython3",
   "version": "3.13.2"
  }
 },
 "nbformat": 4,
 "nbformat_minor": 5
}
