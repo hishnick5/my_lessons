{
 "cells": [
  {
   "cell_type": "code",
   "execution_count": 122,
   "id": "6f56a899",
   "metadata": {},
   "outputs": [
    {
     "name": "stdout",
     "output_type": "stream",
     "text": [
      "+------------+-------------+-------------+-------------+\n",
      "|   Классика |   Аркан v_1 |   Аркан v_2 |   Аркан v_3 |\n",
      "+============+=============+=============+=============+\n",
      "|          6 |          15 |           1 |           2 |\n",
      "+------------+-------------+-------------+-------------+\n"
     ]
    }
   ],
   "source": [
    "import pandas as pd\n",
    "import numpy as np\n",
    "from tabulate import tabulate\n",
    "\n",
    "input_data = '10.05.1983'\n",
    "predict_data = '2025'\n",
    "day_month = input_data[:5]\n",
    "\n",
    "def classic_numb(day_month, predict_data): # classic_version\n",
    "    united = day_month + predict_data # Складываем день рождения + месяц рождения + прогнозируемый год\n",
    "    pure = united.replace('.', '').replace('0', '') # Очищенная дата без точек и нулей ввиде строки\n",
    "    destiny = str(sum([int(i) for i in pure])) # Сумма всех чисел ввиде строки (число судьбы)\n",
    "    while len(destiny) > 1: # Цикл пока длинна строки больше 1\n",
    "        destiny = str(sum([int(i) for i in destiny])) # Сумма всех чисел\n",
    "    return destiny\n",
    "\n",
    "def arkan_numb(numb): # Формула расчёта арканов из числа больше 22\n",
    "    return numb if numb <= 22 else arkan_numb(numb - 22)\n",
    "\n",
    "def arkan_1(day_month, predict_data): # arkan_version_1\n",
    "    united = day_month + predict_data # Складываем день рождения + месяц рождения + прогнозируемый год\n",
    "    pure = united.replace('.', '').replace('0', '') # Очищенная дата без точек и нулей ввиде строки\n",
    "    destiny = sum([int(i) for i in pure]) # Сумма всех чисел ввиде строки (число судьбы)\n",
    "    return arkan_numb(destiny) # Формула расчёта арканов из числа больше 22\n",
    "\n",
    "def arkan_2(input_data, predict_data): # arkan_version_2\n",
    "    predict_data = sum([int(i) for i in predict_data]) # Сумма всех чисел прогнозируемого года\n",
    "    year = input_data.split('.')[-1] # Отделяем год рождения\n",
    "    year = sum([int(i) for i in year]) # Сумма всех чисел года рождения\n",
    "    arkan_list = [] # Список для сложения Арканов\n",
    "    for i in input_data.split('.')[:2]: # Раскладываем дату рождения на день.месяц в цикле\n",
    "        arkan_list.append(arkan_numb(int(i))) # Применяем форму расчёта Арканов к итерируемым объектам\n",
    "    arkan_list.append(arkan_numb(year)) # Применяем форму расчёта Арканов к году рождения\n",
    "    arkan_list.append(arkan_numb(predict_data)) # Применяем форму расчёта Арканов к сумме прогнозируемого года\n",
    "    return arkan_numb(sum(arkan_list)) # Возвращаем сумму Арканов возведённую в Аркан\n",
    "\n",
    "def arkan_3(input_data, predict_data): # arkan_version_3\n",
    "    predict_data = sum([int(i) for i in predict_data]) # Сумма всех чисел прогнозируемого года\n",
    "    arkan_list = [] # Список для сложения Арканов\n",
    "    for i in input_data.split('.')[:2]: # Раскладываем дату рождения на день.месяц в цикле\n",
    "        arkan_list.append(arkan_numb(int(i))) # Применяем форму расчёта Арканов к итерируемым объектам\n",
    "    arkan_list.append(arkan_numb(predict_data)) # Применяем форму расчёта Арканов к сумме прогнозируемого года\n",
    "    return arkan_numb(sum(arkan_list)) # Возвращаем сумму Арканов возведённую в Аркан\n",
    "\n",
    "classic_version = classic_numb(day_month, predict_data)\n",
    "arkan_version_1 = arkan_1(day_month, predict_data)\n",
    "arkan_version_2 = arkan_2(input_data, predict_data)\n",
    "arkan_version_3 = arkan_3(input_data, predict_data)\n",
    "\n",
    "heads = ['Классика', 'Аркан v_1', 'Аркан v_2', 'Аркан v_3']\n",
    "body = [\n",
    "        [classic_version, arkan_version_1, arkan_version_2, arkan_version_3]\n",
    "        ]\n",
    "\n",
    "print(tabulate(body, headers=heads, tablefmt=\"grid\", stralign='center', showindex=False))"
   ]
  }
 ],
 "metadata": {
  "kernelspec": {
   "display_name": "Python 3",
   "language": "python",
   "name": "python3"
  },
  "language_info": {
   "codemirror_mode": {
    "name": "ipython",
    "version": 3
   },
   "file_extension": ".py",
   "mimetype": "text/x-python",
   "name": "python",
   "nbconvert_exporter": "python",
   "pygments_lexer": "ipython3",
   "version": "3.13.2"
  }
 },
 "nbformat": 4,
 "nbformat_minor": 5
}
