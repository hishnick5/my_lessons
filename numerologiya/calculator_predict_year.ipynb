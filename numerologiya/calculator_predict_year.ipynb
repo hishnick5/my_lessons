{
 "cells": [
  {
   "cell_type": "code",
   "execution_count": 13,
   "id": "6f56a899",
   "metadata": {},
   "outputs": [
    {
     "name": "stdout",
     "output_type": "stream",
     "text": [
      "+------------+-------------+-------------+-------------+\n",
      "|   Классика |   Аркан v_1 |   Аркан v_2 |   Аркан v_3 |\n",
      "+============+=============+=============+=============+\n",
      "|          8 |          17 |          17 |          13 |\n",
      "+------------+-------------+-------------+-------------+\n"
     ]
    }
   ],
   "source": [
    "import pandas as pd\n",
    "import numpy as np\n",
    "from tabulate import tabulate\n",
    "\n",
    "input_data = '24.03.1988'\n",
    "predict_year = '2024'\n",
    "brth_day, brth_month, brth_year = input_data.split('.')\n",
    "\n",
    "def convert_arkan(number_str: str) -> int:\n",
    "    n = int(number_str)\n",
    "    while n >= 100: # Суммируем цифры, пока число не станет двузначным\n",
    "        n = sum(int(d) for d in str(n))\n",
    "    return n % 22 if n > 22 else n # Приводим к аркану (1–22)\n",
    "\n",
    "def classic_numb(brth_day, brth_month, predict_year): # classic_version\n",
    "    united = ''.join([brth_day, brth_month, predict_year]).replace('.', '').replace('0', '') # Складываем день рождения + месяц рождения + прогнозируемый год без '.' и '0'\n",
    "    destiny = str(sum([int(i) for i in united])) # Сумма всех чисел ввиде строки (число судьбы)\n",
    "    while len(destiny) > 1: # Цикл пока длинна строки больше 1\n",
    "        destiny = str(sum([int(i) for i in destiny])) # Сумма всех чисел\n",
    "    return destiny\n",
    "\n",
    "def arkan_1(brth_day, brth_month, predict_year): # arkan_version_1\n",
    "    united = ''.join([brth_day, brth_month, predict_year]).replace('.', '').replace('0', '') # Складываем день рождения + месяц рождения + прогнозируемый год без '.' и '0'\n",
    "    return convert_arkan(united) # Формула расчёта арканов из числа больше 22\n",
    "\n",
    "def arkan_2(input_data, predict_year): # arkan_version_2\n",
    "    united = '.'.join([input_data, predict_year])\n",
    "    return convert_arkan(sum(convert_arkan(x) for x in united.split('.'))) # Возвращаем сумму Арканов возведённую в Аркан\n",
    "\n",
    "def arkan_3(brth_day, brth_month, predict_year): # arkan_version_3\n",
    "    united = '.'.join([brth_day, brth_month, predict_year])\n",
    "    return convert_arkan(sum(convert_arkan(x) for x in united.split('.'))) # Возвращаем сумму Арканов возведённую в Аркан\n",
    "\n",
    "classic_version = classic_numb(brth_day, brth_month, predict_year)\n",
    "arkan_version_1 = arkan_1(brth_day, brth_month, predict_year)\n",
    "arkan_version_2 = arkan_2(input_data, predict_year)\n",
    "arkan_version_3 = arkan_3(brth_day, brth_month, predict_year)\n",
    "\n",
    "heads = ['Классика', 'Аркан v_1', 'Аркан v_2', 'Аркан v_3']\n",
    "body = [[classic_version, arkan_version_1, arkan_version_2, arkan_version_3]]\n",
    "\n",
    "print(tabulate(body, headers=heads, tablefmt=\"grid\", stralign='center', showindex=False))"
   ]
  }
 ],
 "metadata": {
  "kernelspec": {
   "display_name": "Python 3",
   "language": "python",
   "name": "python3"
  },
  "language_info": {
   "codemirror_mode": {
    "name": "ipython",
    "version": 3
   },
   "file_extension": ".py",
   "mimetype": "text/x-python",
   "name": "python",
   "nbconvert_exporter": "python",
   "pygments_lexer": "ipython3",
   "version": "3.13.2"
  }
 },
 "nbformat": 4,
 "nbformat_minor": 5
}
