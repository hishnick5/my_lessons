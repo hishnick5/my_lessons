{
 "cells": [
  {
   "cell_type": "markdown",
   "metadata": {},
   "source": [
    "# Игра угадай число"
   ]
  },
  {
   "cell_type": "code",
   "execution_count": null,
   "metadata": {},
   "outputs": [],
   "source": [
    "from game_v2 import score_game\n",
    "from game_v2 import random_predict"
   ]
  },
  {
   "cell_type": "markdown",
   "metadata": {},
   "source": [
    "## Угадываем рандомно"
   ]
  },
  {
   "cell_type": "code",
   "execution_count": null,
   "metadata": {},
   "outputs": [],
   "source": [
    "score_game(random_predict)"
   ]
  },
  {
   "cell_type": "code",
   "execution_count": null,
   "metadata": {},
   "outputs": [],
   "source": [
    "import numpy as np"
   ]
  },
  {
   "cell_type": "code",
   "execution_count": null,
   "metadata": {},
   "outputs": [],
   "source": [
    "# Функция угадывания рандомного числа\n",
    "def random_predict(number:int=1) -> int:\n",
    "    \"\"\"Рандомно угадываем число\n",
    "    Args:\n",
    "        number (int, optional): Загаданное число. Defaults to 1.\n",
    "    Returns:\n",
    "        int: Число попыток\n",
    "    \"\"\"\n",
    "    count = 0 # Подсчёт колличества попыток\n",
    "    \n",
    "    while True:\n",
    "        \n",
    "        count += 1\n",
    "        \n",
    "        predict_number = np.random.randint(1, 101) # Задываем рандомное число\n",
    "        \n",
    "        if number == predict_number: # Проверяем если угадали число\n",
    "            break # выход из цикла, если угадали\n",
    "    \n",
    "    return count # Возвращаем колличество попыток\n",
    "# random_predict()"
   ]
  },
  {
   "cell_type": "code",
   "execution_count": null,
   "metadata": {},
   "outputs": [],
   "source": [
    "def game_core_v2(number:int=1) -> int:\n",
    "    \"\"\"_summary_\n",
    "    Args:\n",
    "        number (int, optional): _description_. Defaults to 1.\n",
    "    Returns:\n",
    "        int: _description_\n",
    "    \"\"\"\n",
    "    count = 0 # Счётчик колличества попыток\n",
    "    \n",
    "    predict = np.random.randint(1, 101) # Задываем предугаданное рандомное число\n",
    "    \n",
    "    while number != predict: # Цикл с предусловием, пока предугаданное число и рандомное число не равны\n",
    "        \n",
    "        count += 1 # Увеличиваем счётчик попыток\n",
    "        \n",
    "        if number < predict: # Если введёное число меньше предугаданного\n",
    "            predict -= 1 # Уменьшаем предугаданное\n",
    "        elif number > predict: # Если больше, тогда увеличиваем\n",
    "            predict += 1\n",
    "    \n",
    "    return count # Возвращаем счётчик попыток\n",
    "# game_core_v2()"
   ]
  },
  {
   "cell_type": "code",
   "execution_count": null,
   "metadata": {},
   "outputs": [],
   "source": [
    "def game_core_v3(number:int=1) -> int:\n",
    "    \"\"\"_summary_\n",
    "    Args:\n",
    "        number (int, optional): _description_. Defaults to 1.\n",
    "    Returns:\n",
    "        int: _description_\n",
    "    \"\"\"\n",
    "    count = 0 # Счётчик колличества попыток\n",
    "    \n",
    "    predict = np.random.randint(1, 101) # Задываем предугаданное рандомное число\n",
    "    \n",
    "    while number != predict: # Цикл с предусловием, пока предугаданное число и рандомное число не равны\n",
    "        \n",
    "        count += 1 # Увеличиваем счётчик попыток\n",
    "        \n",
    "        # Прописываем условие, если оба числа чётные или оба не чётные\n",
    "        if (number %2==0 and predict %2==0) or (number %2!=0 and predict %2!=0):\n",
    "            if number > predict: # Если предугаданное меньше, то увеличиваем на 2\n",
    "                predict += 2\n",
    "            elif number < predict: # Если предугаданное больше, то уменьшаем на 2\n",
    "                predict -= 2\n",
    "        \n",
    "        else: # Иначе (если оба числа не являются одновременно чётными, или не чётными)\n",
    "            if number > predict: # Если предугаданное меньше, то увеличиваем на 1\n",
    "                predict += 1\n",
    "            elif number < predict: # Если предугаданное больше, то уменьшаем на 1\n",
    "                predict -= 1\n",
    "    \n",
    "    return count # Возвращаем полученный счётчик угадываний\n",
    "game_core_v3()"
   ]
  },
  {
   "cell_type": "code",
   "execution_count": null,
   "metadata": {},
   "outputs": [],
   "source": [
    "# Функция вычисления количество попыток в среднем из 1000 подходов угадывания\n",
    "def score_game(random_predict) -> int:\n",
    "    \"\"\"За какое количество попыток в среднем из 1000 подходов угадывает наш алгоритм\n",
    "    Args:\n",
    "        random_predict ([type]):В качестве аргумента принимает функцию угадывания\n",
    "    Returns:\n",
    "        int: Возвращает среднее количество попыток\n",
    "    \"\"\"\n",
    "    count_ls = [] # список для сохранения количества попыток\n",
    "    \n",
    "    np.random.seed(1) # фиксируем сид для воспроизводимости\n",
    "    \n",
    "    random_array = np.random.randint(1, 101, size=(1000)) # загадали список чисел\n",
    "\n",
    "    for number in random_array: # Циклом пройдемся по каждому числу из массива\n",
    "        count_ls.append(random_predict(number)) # И добавим в список число попыток угаданного числа\n",
    "\n",
    "    score = int(np.mean(count_ls)) # находим среднее количество попыток\n",
    "\n",
    "    # print(f'Ваш алгоритм угадывает число в среднем за: {score} попыток')\n",
    "    return (f'Ваш алгоритм угадывает число в среднем за: {score} попыток')# Возвращаем количество попыток в красивом тексте\n",
    "# score_game(random_predict)"
   ]
  },
  {
   "cell_type": "code",
   "execution_count": null,
   "metadata": {},
   "outputs": [],
   "source": [
    "print(score_game(game_core_v3))"
   ]
  },
  {
   "cell_type": "code",
   "execution_count": null,
   "metadata": {},
   "outputs": [],
   "source": [
    "print(score_game(game_core_v2))"
   ]
  },
  {
   "cell_type": "code",
   "execution_count": null,
   "metadata": {},
   "outputs": [],
   "source": [
    "print(score_game(random_predict))"
   ]
  }
 ],
 "metadata": {
  "kernelspec": {
   "display_name": "Python 3",
   "language": "python",
   "name": "python3"
  },
  "language_info": {
   "codemirror_mode": {
    "name": "ipython",
    "version": 3
   },
   "file_extension": ".py",
   "mimetype": "text/x-python",
   "name": "python",
   "nbconvert_exporter": "python",
   "pygments_lexer": "ipython3",
   "version": "3.13.0"
  }
 },
 "nbformat": 4,
 "nbformat_minor": 4
}
